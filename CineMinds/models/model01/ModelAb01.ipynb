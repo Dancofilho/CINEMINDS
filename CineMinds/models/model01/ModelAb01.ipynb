{
 "cells": [
  {
   "cell_type": "code",
   "execution_count": 38,
   "metadata": {},
   "outputs": [],
   "source": [
    "# Importando bibliotecas necessárias\n",
    "import pandas as pd\n",
    "from sklearn.metrics.pairwise import cosine_similarity\n",
    "import time"
   ]
  },
  {
   "cell_type": "code",
   "execution_count": 39,
   "metadata": {},
   "outputs": [],
   "source": [
    "# Carregando os dados dos arquivos csv fornecidos\n",
    "movies = pd.read_csv('../../data/movies.csv')\n",
    "ratings = pd.read_csv('../../data/ratings.csv')"
   ]
  },
  {
   "cell_type": "code",
   "execution_count": 40,
   "metadata": {},
   "outputs": [
    {
     "name": "stdout",
     "output_type": "stream",
     "text": [
      "   movieId                               title  \\\n",
      "0        1                    Toy Story (1995)   \n",
      "1        2                      Jumanji (1995)   \n",
      "2        3             Grumpier Old Men (1995)   \n",
      "3        4            Waiting to Exhale (1995)   \n",
      "4        5  Father of the Bride Part II (1995)   \n",
      "\n",
      "                                        genres  \n",
      "0  Adventure|Animation|Children|Comedy|Fantasy  \n",
      "1                   Adventure|Children|Fantasy  \n",
      "2                               Comedy|Romance  \n",
      "3                         Comedy|Drama|Romance  \n",
      "4                                       Comedy  \n",
      "<class 'pandas.core.frame.DataFrame'>\n",
      "RangeIndex: 10329 entries, 0 to 10328\n",
      "Data columns (total 3 columns):\n",
      " #   Column   Non-Null Count  Dtype \n",
      "---  ------   --------------  ----- \n",
      " 0   movieId  10329 non-null  int64 \n",
      " 1   title    10329 non-null  object\n",
      " 2   genres   10329 non-null  object\n",
      "dtypes: int64(1), object(2)\n",
      "memory usage: 242.2+ KB\n",
      "None\n",
      "   userId  movieId  rating   timestamp\n",
      "0       1       16     4.0  1217897793\n",
      "1       1       24     1.5  1217895807\n",
      "2       1       32     4.0  1217896246\n",
      "3       1       47     4.0  1217896556\n",
      "4       1       50     4.0  1217896523\n",
      "<class 'pandas.core.frame.DataFrame'>\n",
      "RangeIndex: 105339 entries, 0 to 105338\n",
      "Data columns (total 4 columns):\n",
      " #   Column     Non-Null Count   Dtype  \n",
      "---  ------     --------------   -----  \n",
      " 0   userId     105339 non-null  int64  \n",
      " 1   movieId    105339 non-null  int64  \n",
      " 2   rating     105339 non-null  float64\n",
      " 3   timestamp  105339 non-null  int64  \n",
      "dtypes: float64(1), int64(3)\n",
      "memory usage: 3.2 MB\n",
      "None\n",
      "movieId               0\n",
      "title                 0\n",
      "genres                0\n",
      "(no genres listed)    0\n",
      "Action                0\n",
      "Adventure             0\n",
      "Animation             0\n",
      "Children              0\n",
      "Comedy                0\n",
      "Crime                 0\n",
      "Documentary           0\n",
      "Drama                 0\n",
      "Fantasy               0\n",
      "Film-Noir             0\n",
      "Horror                0\n",
      "IMAX                  0\n",
      "Musical               0\n",
      "Mystery               0\n",
      "Romance               0\n",
      "Sci-Fi                0\n",
      "Thriller              0\n",
      "War                   0\n",
      "Western               0\n",
      "dtype: int64\n",
      "userId     0\n",
      "movieId    0\n",
      "rating     0\n",
      "dtype: int64\n",
      "Tempo de execução: 0.38 segundos.\n"
     ]
    }
   ],
   "source": [
    "# Pré-processamento dos dados\n",
    "# Verificar a estrutura dos dados\n",
    "\n",
    "# Medir o tempo de execução do pré-processamento\n",
    "start_time = time.time()\n",
    "print(movies.head())\n",
    "print(movies.info())\n",
    "\n",
    "print(ratings.head())\n",
    "print(ratings.info())\n",
    "\n",
    "# fazer as transformações necessárias\n",
    "movies['movieId'] = movies['movieId'].astype(int)\n",
    "# Dividir a coluna 'genres' em varias colunas\n",
    "genres = movies['genres'].str.get_dummies(sep='|')\n",
    "movies = pd.concat([movies, genres], axis=1)\n",
    "\n",
    "# Remover colunas desnecessárias\n",
    "ratings.drop('timestamp', axis=1, inplace=True)\n",
    "\n",
    "# Tratar valores nulos\n",
    "print(movies.isnull().sum())\n",
    "print(ratings.isnull().sum())\n",
    "\n",
    "# Se houver valores ausentes, você pode remover as linhas ou preencher os valores ausentes\n",
    "# Por exemplo, para preencher com a média dos valores existentes:\n",
    "ratings.fillna(ratings.mean(), inplace=True)\n",
    "\n",
    "\n",
    "end_time = time.time()\n",
    "execution_time = (end_time - start_time)\n",
    " \n",
    "print(f\"Tempo de execução: {execution_time:.2f} segundos.\")"
   ]
  },
  {
   "cell_type": "code",
   "execution_count": 41,
   "metadata": {},
   "outputs": [],
   "source": [
    "# Criar uma matriz de classificação de usuarios para filmes\n",
    "user_movie_ratings = ratings.pivot(index='userId', columns='movieId', values='rating').fillna(0)"
   ]
  },
  {
   "cell_type": "code",
   "execution_count": 42,
   "metadata": {},
   "outputs": [],
   "source": [
    "# Calcular a similaridade do cosseno entre os usuários\n",
    "user_similarity = cosine_similarity(user_movie_ratings)\n"
   ]
  },
  {
   "cell_type": "code",
   "execution_count": 44,
   "metadata": {},
   "outputs": [],
   "source": [
    "# Criar um dataframe com as similaridades e índices de usuário\n",
    "user_similarity_df = pd.DataFrame(user_similarity, index=user_movie_ratings.index, columns=user_movie_ratings.index)\n"
   ]
  },
  {
   "cell_type": "code",
   "execution_count": 47,
   "metadata": {},
   "outputs": [
    {
     "name": "stdout",
     "output_type": "stream",
     "text": [
      "Recomendações de filmes para o usuário 1:\n",
      "Index([   318,   2571,    296,    110,    260,    356,    480,   4993,    858,\n",
      "         2858,\n",
      "       ...\n",
      "         4753,   4754,   4756,   4757,   4759,   4760,   4761,   4765,   4766,\n",
      "       149532],\n",
      "      dtype='int64', name='movieId', length=10325)\n",
      "Tempo de execução: 0.38 segundos.\n",
      "Uso de memória: 4096 bytes.\n"
     ]
    }
   ],
   "source": [
    "# Criar uma função para fazer recomendações para um usuário específico\n",
    "# Medir o uso de memória \n",
    "import psutil\n",
    "\n",
    "def recommend_movies(user_id, num_recommendations=10):\n",
    "    # Obter os usuários mais similares ao usuário de referência\n",
    "    similar_users = user_similarity_df[user_id].sort_values(ascending=False)[1:num_recommendations + 1].index\n",
    "\n",
    "    # Obter os filmes classificados por usuários similares\n",
    "    recommended_movies = user_movie_ratings.loc[similar_users].mean().sort_values(ascending=False).index\n",
    "\n",
    "    return recommended_movies\n",
    "\n",
    "if __name__ == '__main__' : \n",
    "    user_id = 1\n",
    "    \n",
    "    # Medir o uso de memória antes da execução da função recommend_movies\n",
    "    process = psutil.Process()\n",
    "    memory_before = process.memory_info().rss\n",
    "    \n",
    "    recommended_movies = recommend_movies(user_id)\n",
    "    \n",
    "    # Medir o uso de memória após a execução da função recommend_movies\n",
    "    memory_after = process.memory_info().rss\n",
    "    memory_usage = (memory_after - memory_before)\n",
    "\n",
    "    print(f\"Recomendações de filmes para o usuário {user_id}:\")\n",
    "    print(recommended_movies)\n",
    "    print(f\"Tempo de execução: {execution_time:.2f} segundos.\")\n",
    "    print(f\"Uso de memória: {memory_usage} bytes.\")"
   ]
  },
  {
   "cell_type": "code",
   "execution_count": null,
   "metadata": {},
   "outputs": [],
   "source": [
    "# Criar uma função para fazer recomendações para um usuário específico\n",
    "def recommend_movies(user_id, num_recommendations=10):\n",
    "    # Obter os usuários mais similares ao usuário de referência\n",
    "    similar_users = user_similarity_df[user_id].sort_values(ascending=False)[1:num_recommendations + 1].index\n",
    "\n",
    "    # Obter os filmes classificados por usuários similares\n",
    "    recommended_movies = user_movie_ratings.loc[similar_users].mean().sort_values(ascending=False).index\n",
    "\n",
    "    return recommended_movies"
   ]
  },
  {
   "cell_type": "code",
   "execution_count": null,
   "metadata": {},
   "outputs": [
    {
     "name": "stdout",
     "output_type": "stream",
     "text": [
      "Recomendações de filmes para o usuario 1:\n",
      "Index([   318,   2571,    296,    110,    260,    356,    480,   4993,    858,\n",
      "         2858,\n",
      "       ...\n",
      "         4753,   4754,   4756,   4757,   4759,   4760,   4761,   4765,   4766,\n",
      "       149532],\n",
      "      dtype='int64', name='movieId', length=10325)\n"
     ]
    }
   ],
   "source": [
    "# Teste da função de recomendação para um usuário específico\n",
    "user_id = 1\n",
    "recommended_movies = recommend_movies(user_id)\n",
    "print(f\"Recomendações de filmes para o usuario {user_id}:\")\n",
    "print(recommended_movies)"
   ]
  }
 ],
 "metadata": {
  "kernelspec": {
   "display_name": "base",
   "language": "python",
   "name": "python3"
  },
  "language_info": {
   "codemirror_mode": {
    "name": "ipython",
    "version": 3
   },
   "file_extension": ".py",
   "mimetype": "text/x-python",
   "name": "python",
   "nbconvert_exporter": "python",
   "pygments_lexer": "ipython3",
   "version": "3.11.5"
  },
  "orig_nbformat": 4
 },
 "nbformat": 4,
 "nbformat_minor": 2
}
